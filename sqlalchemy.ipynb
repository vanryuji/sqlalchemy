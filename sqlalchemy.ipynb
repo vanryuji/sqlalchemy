{
  "nbformat": 4,
  "nbformat_minor": 0,
  "metadata": {
    "colab": {
      "name": "sqlalchemy.ipynb",
      "version": "0.3.2",
      "provenance": [],
      "include_colab_link": true
    },
    "kernelspec": {
      "name": "python3",
      "display_name": "Python 3"
    }
  },
  "cells": [
    {
      "cell_type": "markdown",
      "metadata": {
        "id": "view-in-github",
        "colab_type": "text"
      },
      "source": [
        "<a href=\"https://colab.research.google.com/github/vanryuji/sqlalchemy/blob/master/sqlalchemy.ipynb\" target=\"_parent\"><img src=\"https://colab.research.google.com/assets/colab-badge.svg\" alt=\"Open In Colab\"/></a>"
      ]
    },
    {
      "cell_type": "code",
      "metadata": {
        "id": "kzQvTDOKY4g4",
        "colab_type": "code",
        "outputId": "eb2a034b-cc85-4398-93c6-699770b6d9b3",
        "colab": {
          "base_uri": "https://localhost:8080/",
          "height": 34
        }
      },
      "source": [
        "!pip install sqlalchemy"
      ],
      "execution_count": 12,
      "outputs": [
        {
          "output_type": "stream",
          "text": [
            "Requirement already satisfied: sqlalchemy in /usr/local/lib/python3.6/dist-packages (1.3.3)\n"
          ],
          "name": "stdout"
        }
      ]
    },
    {
      "cell_type": "code",
      "metadata": {
        "id": "QwQQx_KdZHRG",
        "colab_type": "code",
        "colab": {}
      },
      "source": [
        "from sqlalchemy import create_engine\n",
        "from sqlalchemy.ext.declarative import declarative_base\n",
        "from sqlalchemy import Column, Integer, String\n",
        "from sqlalchemy.orm import sessionmaker"
      ],
      "execution_count": 0,
      "outputs": []
    },
    {
      "cell_type": "code",
      "metadata": {
        "id": "YL2UPLkG6mxY",
        "colab_type": "code",
        "colab": {}
      },
      "source": [
        "# Connecting\n",
        "\n",
        "engine = create_engine('sqlite:///:memory:', echo=True)"
      ],
      "execution_count": 0,
      "outputs": []
    },
    {
      "cell_type": "code",
      "metadata": {
        "id": "zd0z0hVm6LkS",
        "colab_type": "code",
        "colab": {}
      },
      "source": [
        "# Declare mapping\n",
        "\n",
        "Base = declarative_base()\n",
        "\n",
        "class User(Base):\n",
        "    __tablename__ = 'users'\n",
        "    \n",
        "    id = Column(Integer, primary_key=True)\n",
        "    name = Column(String)\n",
        "    fullname = Column(String)\n",
        "    nickname = Column(String)\n",
        "\n",
        "    def __repr__(self):\n",
        "        return \"<User(name='%s', fullname='%s', nickname='%s')>\" % (self.name, self.fullname, self.nickname)\n"
      ],
      "execution_count": 0,
      "outputs": []
    },
    {
      "cell_type": "code",
      "metadata": {
        "id": "sXgBOJLd8RxY",
        "colab_type": "code",
        "colab": {
          "base_uri": "https://localhost:8080/",
          "height": 425
        },
        "outputId": "11bab203-e969-44f8-f904-8aff98177974"
      },
      "source": [
        "# Create schema\n",
        "\n",
        "print('before creating, tables:', engine.table_names())\n",
        "Base.metadata.create_all(engine)\n",
        "print('after creating, tables:', engine.table_names())"
      ],
      "execution_count": 4,
      "outputs": [
        {
          "output_type": "stream",
          "text": [
            "2019-05-09 09:52:46,944 INFO sqlalchemy.engine.base.Engine SELECT CAST('test plain returns' AS VARCHAR(60)) AS anon_1\n",
            "2019-05-09 09:52:46,946 INFO sqlalchemy.engine.base.Engine ()\n",
            "2019-05-09 09:52:46,950 INFO sqlalchemy.engine.base.Engine SELECT CAST('test unicode returns' AS VARCHAR(60)) AS anon_1\n",
            "2019-05-09 09:52:46,952 INFO sqlalchemy.engine.base.Engine ()\n",
            "2019-05-09 09:52:46,955 INFO sqlalchemy.engine.base.Engine SELECT name FROM sqlite_master WHERE type='table' ORDER BY name\n",
            "2019-05-09 09:52:46,957 INFO sqlalchemy.engine.base.Engine ()\n",
            "before creating, tables: []\n",
            "2019-05-09 09:52:46,965 INFO sqlalchemy.engine.base.Engine PRAGMA table_info(\"users\")\n",
            "2019-05-09 09:52:46,966 INFO sqlalchemy.engine.base.Engine ()\n",
            "2019-05-09 09:52:46,969 INFO sqlalchemy.engine.base.Engine \n",
            "CREATE TABLE users (\n",
            "\tid INTEGER NOT NULL, \n",
            "\tname VARCHAR, \n",
            "\tfullname VARCHAR, \n",
            "\tnickname VARCHAR, \n",
            "\tPRIMARY KEY (id)\n",
            ")\n",
            "\n",
            "\n",
            "2019-05-09 09:52:46,970 INFO sqlalchemy.engine.base.Engine ()\n",
            "2019-05-09 09:52:46,972 INFO sqlalchemy.engine.base.Engine COMMIT\n",
            "2019-05-09 09:52:46,973 INFO sqlalchemy.engine.base.Engine SELECT name FROM sqlite_master WHERE type='table' ORDER BY name\n",
            "2019-05-09 09:52:46,974 INFO sqlalchemy.engine.base.Engine ()\n",
            "after creating, tables: ['users']\n"
          ],
          "name": "stdout"
        }
      ]
    },
    {
      "cell_type": "code",
      "metadata": {
        "id": "ZarsMtk78f_I",
        "colab_type": "code",
        "colab": {
          "base_uri": "https://localhost:8080/",
          "height": 34
        },
        "outputId": "a85cab73-a07b-4564-f78f-1296be041265"
      },
      "source": [
        "# Creating session\n",
        "\n",
        "Session = sessionmaker(bind=engine)\n",
        "session = Session()\n",
        "print('autocommit:', session.autocommit)"
      ],
      "execution_count": 5,
      "outputs": [
        {
          "output_type": "stream",
          "text": [
            "autocommit: False\n"
          ],
          "name": "stdout"
        }
      ]
    },
    {
      "cell_type": "code",
      "metadata": {
        "id": "C3VTjVl76T9p",
        "colab_type": "code",
        "colab": {
          "base_uri": "https://localhost:8080/",
          "height": 207
        },
        "outputId": "d0ae3536-5384-4532-a335-043fb7f7956f"
      },
      "source": [
        "# Add user\n",
        "\n",
        "ed_user = User(name='ed', fullname='Ed Jones', nickname='edsnickname')\n",
        "session.add(ed_user)\n",
        "session.commit()\n",
        "our_user = session.query(User).filter_by(name='ed').all()\n",
        "print(our_user)"
      ],
      "execution_count": 6,
      "outputs": [
        {
          "output_type": "stream",
          "text": [
            "2019-05-09 09:55:38,968 INFO sqlalchemy.engine.base.Engine BEGIN (implicit)\n",
            "2019-05-09 09:55:38,973 INFO sqlalchemy.engine.base.Engine INSERT INTO users (name, fullname, nickname) VALUES (?, ?, ?)\n",
            "2019-05-09 09:55:38,974 INFO sqlalchemy.engine.base.Engine ('ed', 'Ed Jones', 'edsnickname')\n",
            "2019-05-09 09:55:38,976 INFO sqlalchemy.engine.base.Engine COMMIT\n",
            "2019-05-09 09:55:38,978 INFO sqlalchemy.engine.base.Engine BEGIN (implicit)\n",
            "2019-05-09 09:55:38,981 INFO sqlalchemy.engine.base.Engine SELECT users.id AS users_id, users.name AS users_name, users.fullname AS users_fullname, users.nickname AS users_nickname \n",
            "FROM users \n",
            "WHERE users.name = ?\n",
            "2019-05-09 09:55:38,982 INFO sqlalchemy.engine.base.Engine ('ed',)\n",
            "[<User(name='ed', fullname='Ed Jones', nickname='edsnickname')>]\n"
          ],
          "name": "stdout"
        }
      ]
    },
    {
      "cell_type": "code",
      "metadata": {
        "id": "-bz42fqGBTbv",
        "colab_type": "code",
        "colab": {
          "base_uri": "https://localhost:8080/",
          "height": 156
        },
        "outputId": "6f6f7a3c-e226-4a7c-ea24-844d88ddf8be"
      },
      "source": [
        "# Rollback\n",
        "\n",
        "ed_user = User(name='ed', fullname='Ed Mickey', nickname='edsnickname')\n",
        "session.add(ed_user)\n",
        "session.rollback()\n",
        "our_user = session.query(User).filter_by(name='ed').all()\n",
        "print(our_user)"
      ],
      "execution_count": 9,
      "outputs": [
        {
          "output_type": "stream",
          "text": [
            "2019-05-09 09:57:18,071 INFO sqlalchemy.engine.base.Engine ROLLBACK\n",
            "2019-05-09 09:57:18,079 INFO sqlalchemy.engine.base.Engine BEGIN (implicit)\n",
            "2019-05-09 09:57:18,083 INFO sqlalchemy.engine.base.Engine SELECT users.id AS users_id, users.name AS users_name, users.fullname AS users_fullname, users.nickname AS users_nickname \n",
            "FROM users \n",
            "WHERE users.name = ?\n",
            "2019-05-09 09:57:18,086 INFO sqlalchemy.engine.base.Engine ('ed',)\n",
            "[<User(name='ed', fullname='Ed Jones', nickname='edsnickname')>]\n"
          ],
          "name": "stdout"
        }
      ]
    }
  ]
}