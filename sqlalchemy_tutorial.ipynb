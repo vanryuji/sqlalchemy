{
  "nbformat": 4,
  "nbformat_minor": 0,
  "metadata": {
    "colab": {
      "name": "sqlalchemy_tutorial.ipynb",
      "version": "0.3.2",
      "provenance": [],
      "include_colab_link": true
    },
    "kernelspec": {
      "name": "python3",
      "display_name": "Python 3"
    }
  },
  "cells": [
    {
      "cell_type": "markdown",
      "metadata": {
        "id": "view-in-github",
        "colab_type": "text"
      },
      "source": [
        "<a href=\"https://colab.research.google.com/github/vanryuji/sqlalchemy/blob/master/sqlalchemy_tutorial.ipynb\" target=\"_parent\"><img src=\"https://colab.research.google.com/assets/colab-badge.svg\" alt=\"Open In Colab\"/></a>"
      ]
    },
    {
      "cell_type": "code",
      "metadata": {
        "id": "kzQvTDOKY4g4",
        "colab_type": "code",
        "outputId": "d25f56b2-169b-499e-e2f5-6a921c9fe2b9",
        "colab": {
          "base_uri": "https://localhost:8080/",
          "height": 34
        }
      },
      "source": [
        "!pip install sqlalchemy"
      ],
      "execution_count": 0,
      "outputs": [
        {
          "output_type": "stream",
          "text": [
            "Requirement already satisfied: sqlalchemy in /usr/local/lib/python3.6/dist-packages (1.3.3)\n"
          ],
          "name": "stdout"
        }
      ]
    },
    {
      "cell_type": "code",
      "metadata": {
        "id": "QwQQx_KdZHRG",
        "colab_type": "code",
        "colab": {}
      },
      "source": [
        "from sqlalchemy import create_engine\n",
        "from sqlalchemy.ext.declarative import declarative_base\n",
        "from sqlalchemy import Column, Integer, String\n",
        "from sqlalchemy.orm import sessionmaker\n",
        "from sqlalchemy import ForeignKey\n",
        "from sqlalchemy.orm import relationship"
      ],
      "execution_count": 0,
      "outputs": []
    },
    {
      "cell_type": "code",
      "metadata": {
        "id": "YL2UPLkG6mxY",
        "colab_type": "code",
        "colab": {}
      },
      "source": [
        "# Connecting #\n",
        "\n",
        "engine = create_engine('sqlite:///:memory:', echo=True)"
      ],
      "execution_count": 0,
      "outputs": []
    },
    {
      "cell_type": "code",
      "metadata": {
        "id": "zd0z0hVm6LkS",
        "colab_type": "code",
        "colab": {}
      },
      "source": [
        "# Declare mapping\n",
        "\n",
        "Base = declarative_base()\n",
        "\n",
        "class User(Base):\n",
        "    __tablename__ = 'users'\n",
        "    \n",
        "    id = Column(Integer, primary_key=True)\n",
        "    name = Column(String)\n",
        "    fullname = Column(String)\n",
        "    nickname = Column(String)\n",
        "\n",
        "    def __repr__(self):\n",
        "        return \"<User(name='%s', fullname='%s', nickname='%s')>\" % (self.name, self.fullname, self.nickname)\n"
      ],
      "execution_count": 0,
      "outputs": []
    },
    {
      "cell_type": "code",
      "metadata": {
        "id": "sXgBOJLd8RxY",
        "colab_type": "code",
        "outputId": "1f58dfae-37c1-4d97-a82a-a1c664c03ac1",
        "colab": {
          "base_uri": "https://localhost:8080/",
          "height": 425
        }
      },
      "source": [
        "# Create schema\n",
        "\n",
        "print('before creating, tables:', engine.table_names())\n",
        "Base.metadata.create_all(engine)\n",
        "print('after creating, tables:', engine.table_names())"
      ],
      "execution_count": 5,
      "outputs": [
        {
          "output_type": "stream",
          "text": [
            "2019-05-09 15:42:55,027 INFO sqlalchemy.engine.base.Engine SELECT CAST('test plain returns' AS VARCHAR(60)) AS anon_1\n",
            "2019-05-09 15:42:55,029 INFO sqlalchemy.engine.base.Engine ()\n",
            "2019-05-09 15:42:55,038 INFO sqlalchemy.engine.base.Engine SELECT CAST('test unicode returns' AS VARCHAR(60)) AS anon_1\n",
            "2019-05-09 15:42:55,040 INFO sqlalchemy.engine.base.Engine ()\n",
            "2019-05-09 15:42:55,042 INFO sqlalchemy.engine.base.Engine SELECT name FROM sqlite_master WHERE type='table' ORDER BY name\n",
            "2019-05-09 15:42:55,044 INFO sqlalchemy.engine.base.Engine ()\n",
            "before creating, tables: []\n",
            "2019-05-09 15:42:55,051 INFO sqlalchemy.engine.base.Engine PRAGMA table_info(\"users\")\n",
            "2019-05-09 15:42:55,054 INFO sqlalchemy.engine.base.Engine ()\n",
            "2019-05-09 15:42:55,058 INFO sqlalchemy.engine.base.Engine \n",
            "CREATE TABLE users (\n",
            "\tid INTEGER NOT NULL, \n",
            "\tname VARCHAR, \n",
            "\tfullname VARCHAR, \n",
            "\tnickname VARCHAR, \n",
            "\tPRIMARY KEY (id)\n",
            ")\n",
            "\n",
            "\n",
            "2019-05-09 15:42:55,061 INFO sqlalchemy.engine.base.Engine ()\n",
            "2019-05-09 15:42:55,064 INFO sqlalchemy.engine.base.Engine COMMIT\n",
            "2019-05-09 15:42:55,066 INFO sqlalchemy.engine.base.Engine SELECT name FROM sqlite_master WHERE type='table' ORDER BY name\n",
            "2019-05-09 15:42:55,068 INFO sqlalchemy.engine.base.Engine ()\n",
            "after creating, tables: ['users']\n"
          ],
          "name": "stdout"
        }
      ]
    },
    {
      "cell_type": "code",
      "metadata": {
        "id": "ZarsMtk78f_I",
        "colab_type": "code",
        "outputId": "e260f7c4-75ed-4aa7-fc35-2f19cdc800e7",
        "colab": {
          "base_uri": "https://localhost:8080/",
          "height": 34
        }
      },
      "source": [
        "# Creating session\n",
        "\n",
        "Session = sessionmaker(bind=engine)\n",
        "session = Session()\n",
        "print('autocommit:', session.autocommit)"
      ],
      "execution_count": 6,
      "outputs": [
        {
          "output_type": "stream",
          "text": [
            "autocommit: False\n"
          ],
          "name": "stdout"
        }
      ]
    },
    {
      "cell_type": "code",
      "metadata": {
        "id": "C3VTjVl76T9p",
        "colab_type": "code",
        "outputId": "273146ad-6424-4129-f149-be4292cf3651",
        "colab": {
          "base_uri": "https://localhost:8080/",
          "height": 207
        }
      },
      "source": [
        "# Insert\n",
        "\n",
        "ed_user = User(name='ed', fullname='Ed Jones', nickname='edsnickname')\n",
        "session.add(ed_user)\n",
        "session.commit()\n",
        "our_user = session.query(User).filter_by(name='ed').all()\n",
        "print(our_user)"
      ],
      "execution_count": 7,
      "outputs": [
        {
          "output_type": "stream",
          "text": [
            "2019-05-09 15:43:08,337 INFO sqlalchemy.engine.base.Engine BEGIN (implicit)\n",
            "2019-05-09 15:43:08,342 INFO sqlalchemy.engine.base.Engine INSERT INTO users (name, fullname, nickname) VALUES (?, ?, ?)\n",
            "2019-05-09 15:43:08,346 INFO sqlalchemy.engine.base.Engine ('ed', 'Ed Jones', 'edsnickname')\n",
            "2019-05-09 15:43:08,352 INFO sqlalchemy.engine.base.Engine COMMIT\n",
            "2019-05-09 15:43:08,355 INFO sqlalchemy.engine.base.Engine BEGIN (implicit)\n",
            "2019-05-09 15:43:08,359 INFO sqlalchemy.engine.base.Engine SELECT users.id AS users_id, users.name AS users_name, users.fullname AS users_fullname, users.nickname AS users_nickname \n",
            "FROM users \n",
            "WHERE users.name = ?\n",
            "2019-05-09 15:43:08,362 INFO sqlalchemy.engine.base.Engine ('ed',)\n",
            "[<User(name='ed', fullname='Ed Jones', nickname='edsnickname')>]\n"
          ],
          "name": "stdout"
        }
      ]
    },
    {
      "cell_type": "code",
      "metadata": {
        "id": "-bz42fqGBTbv",
        "colab_type": "code",
        "outputId": "2096ed66-0527-4e1f-acd2-212697158c14",
        "colab": {
          "base_uri": "https://localhost:8080/",
          "height": 156
        }
      },
      "source": [
        "# Rollback\n",
        "\n",
        "ed_user = User(name='ed', fullname='Ed Mickey', nickname='edsnickname')\n",
        "session.add(ed_user)\n",
        "session.rollback()\n",
        "users = session.query(User).filter_by(name='ed').all()\n",
        "print(users)"
      ],
      "execution_count": 8,
      "outputs": [
        {
          "output_type": "stream",
          "text": [
            "2019-05-09 15:43:12,378 INFO sqlalchemy.engine.base.Engine ROLLBACK\n",
            "2019-05-09 15:43:12,381 INFO sqlalchemy.engine.base.Engine BEGIN (implicit)\n",
            "2019-05-09 15:43:12,383 INFO sqlalchemy.engine.base.Engine SELECT users.id AS users_id, users.name AS users_name, users.fullname AS users_fullname, users.nickname AS users_nickname \n",
            "FROM users \n",
            "WHERE users.name = ?\n",
            "2019-05-09 15:43:12,384 INFO sqlalchemy.engine.base.Engine ('ed',)\n",
            "[<User(name='ed', fullname='Ed Jones', nickname='edsnickname')>]\n"
          ],
          "name": "stdout"
        }
      ]
    },
    {
      "cell_type": "code",
      "metadata": {
        "id": "pOdC9eKKMfJ1",
        "colab_type": "code",
        "outputId": "cb098d7b-2d97-4e17-cae0-3c7ffaa9c558",
        "colab": {
          "base_uri": "https://localhost:8080/",
          "height": 340
        }
      },
      "source": [
        "# Building a Relationship\n",
        "\n",
        "class Address(Base):\n",
        "    __tablename__ = 'addresses'\n",
        "\n",
        "    id = Column(Integer, primary_key=True)\n",
        "    email_address = Column(String, nullable=False)\n",
        "    user_id = Column(Integer, ForeignKey('users.id'))\n",
        "    user = relationship(\"User\", back_populates=\"addresses\")\n",
        "    \n",
        "    def __repr__(self):\n",
        "        return \"<Address(email_address='%s')>\" % self.email_address\n",
        "    \n",
        "User.addresses = relationship(\"Address\", order_by=Address.id, back_populates=\"user\")\n",
        "    \n",
        "Base.metadata.create_all(engine)\n",
        "print('tables:', engine.table_names())"
      ],
      "execution_count": 9,
      "outputs": [
        {
          "output_type": "stream",
          "text": [
            "2019-05-09 15:43:16,052 INFO sqlalchemy.engine.base.Engine PRAGMA table_info(\"users\")\n",
            "2019-05-09 15:43:16,058 INFO sqlalchemy.engine.base.Engine ()\n",
            "2019-05-09 15:43:16,060 INFO sqlalchemy.engine.base.Engine PRAGMA table_info(\"addresses\")\n",
            "2019-05-09 15:43:16,062 INFO sqlalchemy.engine.base.Engine ()\n",
            "2019-05-09 15:43:16,065 INFO sqlalchemy.engine.base.Engine \n",
            "CREATE TABLE addresses (\n",
            "\tid INTEGER NOT NULL, \n",
            "\temail_address VARCHAR NOT NULL, \n",
            "\tuser_id INTEGER, \n",
            "\tPRIMARY KEY (id), \n",
            "\tFOREIGN KEY(user_id) REFERENCES users (id)\n",
            ")\n",
            "\n",
            "\n",
            "2019-05-09 15:43:16,067 INFO sqlalchemy.engine.base.Engine ()\n",
            "2019-05-09 15:43:16,068 INFO sqlalchemy.engine.base.Engine COMMIT\n",
            "2019-05-09 15:43:16,070 INFO sqlalchemy.engine.base.Engine SELECT name FROM sqlite_master WHERE type='table' ORDER BY name\n",
            "2019-05-09 15:43:16,071 INFO sqlalchemy.engine.base.Engine ()\n",
            "tables: ['addresses', 'users']\n"
          ],
          "name": "stdout"
        }
      ]
    },
    {
      "cell_type": "code",
      "metadata": {
        "id": "kQNqS-dpPa7R",
        "colab_type": "code",
        "outputId": "474a78d7-1454-407e-9b44-cbce42f986fe",
        "colab": {
          "base_uri": "https://localhost:8080/",
          "height": 343
        }
      },
      "source": [
        "# Join\n",
        "\n",
        "jack = User(name='jack', fullname='Jack Bean', nickname='gjffdd')\n",
        "print('jack addresses:', jack.addresses)\n",
        "\n",
        "jack.addresses = [Address(email_address='jack@google.com'),\n",
        "                  Address(email_address='j25@yahoo.com')]\n",
        "session.add(jack)\n",
        "session.commit()\n",
        "user = session.query(User).filter_by(name='jack').one()\n",
        "print(user.addresses)"
      ],
      "execution_count": 10,
      "outputs": [
        {
          "output_type": "stream",
          "text": [
            "jack addresses: []\n",
            "2019-05-09 15:43:25,273 INFO sqlalchemy.engine.base.Engine INSERT INTO users (name, fullname, nickname) VALUES (?, ?, ?)\n",
            "2019-05-09 15:43:25,275 INFO sqlalchemy.engine.base.Engine ('jack', 'Jack Bean', 'gjffdd')\n",
            "2019-05-09 15:43:25,279 INFO sqlalchemy.engine.base.Engine INSERT INTO addresses (email_address, user_id) VALUES (?, ?)\n",
            "2019-05-09 15:43:25,281 INFO sqlalchemy.engine.base.Engine ('jack@google.com', 2)\n",
            "2019-05-09 15:43:25,283 INFO sqlalchemy.engine.base.Engine INSERT INTO addresses (email_address, user_id) VALUES (?, ?)\n",
            "2019-05-09 15:43:25,284 INFO sqlalchemy.engine.base.Engine ('j25@yahoo.com', 2)\n",
            "2019-05-09 15:43:25,286 INFO sqlalchemy.engine.base.Engine COMMIT\n",
            "2019-05-09 15:43:25,289 INFO sqlalchemy.engine.base.Engine BEGIN (implicit)\n",
            "2019-05-09 15:43:25,291 INFO sqlalchemy.engine.base.Engine SELECT users.id AS users_id, users.name AS users_name, users.fullname AS users_fullname, users.nickname AS users_nickname \n",
            "FROM users \n",
            "WHERE users.name = ?\n",
            "2019-05-09 15:43:25,292 INFO sqlalchemy.engine.base.Engine ('jack',)\n",
            "2019-05-09 15:43:25,296 INFO sqlalchemy.engine.base.Engine SELECT addresses.id AS addresses_id, addresses.email_address AS addresses_email_address, addresses.user_id AS addresses_user_id \n",
            "FROM addresses \n",
            "WHERE ? = addresses.user_id ORDER BY addresses.id\n",
            "2019-05-09 15:43:25,300 INFO sqlalchemy.engine.base.Engine (2,)\n",
            "[<Address(email_address='jack@google.com')>, <Address(email_address='j25@yahoo.com')>]\n"
          ],
          "name": "stdout"
        }
      ]
    }
  ]
}