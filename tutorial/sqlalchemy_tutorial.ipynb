{
  "nbformat": 4,
  "nbformat_minor": 0,
  "metadata": {
    "colab": {
      "name": "sqlalchemy_tutorial.ipynb",
      "version": "0.3.2",
      "provenance": [],
      "include_colab_link": true
    },
    "kernelspec": {
      "name": "python3",
      "display_name": "Python 3"
    }
  },
  "cells": [
    {
      "cell_type": "markdown",
      "metadata": {
        "id": "view-in-github",
        "colab_type": "text"
      },
      "source": [
        "<a href=\"https://colab.research.google.com/github/vanryuji/sqlalchemy/blob/master/tutorial/sqlalchemy_tutorial.ipynb\" target=\"_parent\"><img src=\"https://colab.research.google.com/assets/colab-badge.svg\" alt=\"Open In Colab\"/></a>"
      ]
    },
    {
      "cell_type": "code",
      "metadata": {
        "id": "kzQvTDOKY4g4",
        "colab_type": "code",
        "outputId": "d08b6b54-323c-4018-fc2d-af85c3c7f96b",
        "colab": {
          "base_uri": "https://localhost:8080/",
          "height": 34
        }
      },
      "source": [
        "!pip install sqlalchemy"
      ],
      "execution_count": 1,
      "outputs": [
        {
          "output_type": "stream",
          "text": [
            "Requirement already satisfied: sqlalchemy in /usr/local/lib/python3.6/dist-packages (1.3.3)\n"
          ],
          "name": "stdout"
        }
      ]
    },
    {
      "cell_type": "code",
      "metadata": {
        "id": "QwQQx_KdZHRG",
        "colab_type": "code",
        "colab": {}
      },
      "source": [
        "from sqlalchemy import create_engine\n",
        "from sqlalchemy.ext.declarative import declarative_base\n",
        "from sqlalchemy import Column, Integer, String\n",
        "from sqlalchemy.orm import sessionmaker, scoped_session\n",
        "from sqlalchemy import ForeignKey\n",
        "from sqlalchemy.orm import relationship"
      ],
      "execution_count": 0,
      "outputs": []
    },
    {
      "cell_type": "code",
      "metadata": {
        "id": "YL2UPLkG6mxY",
        "colab_type": "code",
        "colab": {}
      },
      "source": [
        "### Connecting ###\n",
        "\n",
        "engine = create_engine('sqlite:///:memory:', echo=True)"
      ],
      "execution_count": 0,
      "outputs": []
    },
    {
      "cell_type": "code",
      "metadata": {
        "id": "ZarsMtk78f_I",
        "colab_type": "code",
        "outputId": "d71efdc6-91c3-4371-b647-4b0c03e19e67",
        "colab": {
          "base_uri": "https://localhost:8080/",
          "height": 34
        }
      },
      "source": [
        "### Creating session ###\n",
        "\n",
        "session = scoped_session(sessionmaker(bind=engine))\n",
        "print('autocommit:', session.autocommit)"
      ],
      "execution_count": 4,
      "outputs": [
        {
          "output_type": "stream",
          "text": [
            "autocommit: False\n"
          ],
          "name": "stdout"
        }
      ]
    },
    {
      "cell_type": "code",
      "metadata": {
        "id": "zd0z0hVm6LkS",
        "colab_type": "code",
        "colab": {}
      },
      "source": [
        "### Declare mapping ###\n",
        "\n",
        "Base = declarative_base()\n",
        "\n",
        "class User(Base):\n",
        "    __tablename__ = 'users'\n",
        "    \n",
        "    id = Column(Integer, primary_key=True)\n",
        "    name = Column(String)\n",
        "    fullname = Column(String)\n",
        "    nickname = Column(String)\n",
        "\n",
        "    def __repr__(self):\n",
        "        return \"<User(name='%s', fullname='%s', nickname='%s')>\" % (self.name, self.fullname, self.nickname)\n"
      ],
      "execution_count": 0,
      "outputs": []
    },
    {
      "cell_type": "code",
      "metadata": {
        "id": "sXgBOJLd8RxY",
        "colab_type": "code",
        "outputId": "a410ddf9-d08c-4c9c-8145-08f1f410b79c",
        "colab": {
          "base_uri": "https://localhost:8080/",
          "height": 459
        }
      },
      "source": [
        "### Create schema ###\n",
        "\n",
        "Base.metadata.drop_all(bind=engine)\n",
        "print('before creating, tables:', engine.table_names())\n",
        "Base.metadata.create_all(engine)\n",
        "print('after creating, tables:', engine.table_names())"
      ],
      "execution_count": 6,
      "outputs": [
        {
          "output_type": "stream",
          "text": [
            "2019-05-12 07:45:03,176 INFO sqlalchemy.engine.base.Engine SELECT CAST('test plain returns' AS VARCHAR(60)) AS anon_1\n",
            "2019-05-12 07:45:03,184 INFO sqlalchemy.engine.base.Engine ()\n",
            "2019-05-12 07:45:03,188 INFO sqlalchemy.engine.base.Engine SELECT CAST('test unicode returns' AS VARCHAR(60)) AS anon_1\n",
            "2019-05-12 07:45:03,189 INFO sqlalchemy.engine.base.Engine ()\n",
            "2019-05-12 07:45:03,191 INFO sqlalchemy.engine.base.Engine PRAGMA table_info(\"users\")\n",
            "2019-05-12 07:45:03,193 INFO sqlalchemy.engine.base.Engine ()\n",
            "2019-05-12 07:45:03,195 INFO sqlalchemy.engine.base.Engine SELECT name FROM sqlite_master WHERE type='table' ORDER BY name\n",
            "2019-05-12 07:45:03,198 INFO sqlalchemy.engine.base.Engine ()\n",
            "before creating, tables: []\n",
            "2019-05-12 07:45:03,200 INFO sqlalchemy.engine.base.Engine PRAGMA table_info(\"users\")\n",
            "2019-05-12 07:45:03,202 INFO sqlalchemy.engine.base.Engine ()\n",
            "2019-05-12 07:45:03,209 INFO sqlalchemy.engine.base.Engine \n",
            "CREATE TABLE users (\n",
            "\tid INTEGER NOT NULL, \n",
            "\tname VARCHAR, \n",
            "\tfullname VARCHAR, \n",
            "\tnickname VARCHAR, \n",
            "\tPRIMARY KEY (id)\n",
            ")\n",
            "\n",
            "\n",
            "2019-05-12 07:45:03,212 INFO sqlalchemy.engine.base.Engine ()\n",
            "2019-05-12 07:45:03,214 INFO sqlalchemy.engine.base.Engine COMMIT\n",
            "2019-05-12 07:45:03,215 INFO sqlalchemy.engine.base.Engine SELECT name FROM sqlite_master WHERE type='table' ORDER BY name\n",
            "2019-05-12 07:45:03,217 INFO sqlalchemy.engine.base.Engine ()\n",
            "after creating, tables: ['users']\n"
          ],
          "name": "stdout"
        }
      ]
    },
    {
      "cell_type": "code",
      "metadata": {
        "id": "C3VTjVl76T9p",
        "colab_type": "code",
        "outputId": "d00a06ef-befb-4525-8be9-95547e0a5f1c",
        "colab": {
          "base_uri": "https://localhost:8080/",
          "height": 207
        }
      },
      "source": [
        "### Insert ###\n",
        "\n",
        "ed_user = User(name='ed', fullname='Ed Jones', nickname='edsnickname')\n",
        "session.add(ed_user)\n",
        "session.commit()\n",
        "our_user = session.query(User).filter_by(name='ed').all()\n",
        "print(our_user)"
      ],
      "execution_count": 7,
      "outputs": [
        {
          "output_type": "stream",
          "text": [
            "2019-05-12 07:45:03,230 INFO sqlalchemy.engine.base.Engine BEGIN (implicit)\n",
            "2019-05-12 07:45:03,239 INFO sqlalchemy.engine.base.Engine INSERT INTO users (name, fullname, nickname) VALUES (?, ?, ?)\n",
            "2019-05-12 07:45:03,242 INFO sqlalchemy.engine.base.Engine ('ed', 'Ed Jones', 'edsnickname')\n",
            "2019-05-12 07:45:03,244 INFO sqlalchemy.engine.base.Engine COMMIT\n",
            "2019-05-12 07:45:03,248 INFO sqlalchemy.engine.base.Engine BEGIN (implicit)\n",
            "2019-05-12 07:45:03,250 INFO sqlalchemy.engine.base.Engine SELECT users.id AS users_id, users.name AS users_name, users.fullname AS users_fullname, users.nickname AS users_nickname \n",
            "FROM users \n",
            "WHERE users.name = ?\n",
            "2019-05-12 07:45:03,251 INFO sqlalchemy.engine.base.Engine ('ed',)\n",
            "[<User(name='ed', fullname='Ed Jones', nickname='edsnickname')>]\n"
          ],
          "name": "stdout"
        }
      ]
    },
    {
      "cell_type": "code",
      "metadata": {
        "id": "-bz42fqGBTbv",
        "colab_type": "code",
        "outputId": "ae8794d5-6c5b-4979-a044-f5663be2be22",
        "colab": {
          "base_uri": "https://localhost:8080/",
          "height": 156
        }
      },
      "source": [
        "### Rollback ###\n",
        "\n",
        "ed_user = User(name='ed', fullname='Ed Mickey', nickname='edsnickname')\n",
        "session.add(ed_user)\n",
        "session.rollback()\n",
        "users = session.query(User).filter_by(name='ed').all()\n",
        "print(users)"
      ],
      "execution_count": 8,
      "outputs": [
        {
          "output_type": "stream",
          "text": [
            "2019-05-12 07:45:03,266 INFO sqlalchemy.engine.base.Engine ROLLBACK\n",
            "2019-05-12 07:45:03,270 INFO sqlalchemy.engine.base.Engine BEGIN (implicit)\n",
            "2019-05-12 07:45:03,272 INFO sqlalchemy.engine.base.Engine SELECT users.id AS users_id, users.name AS users_name, users.fullname AS users_fullname, users.nickname AS users_nickname \n",
            "FROM users \n",
            "WHERE users.name = ?\n",
            "2019-05-12 07:45:03,274 INFO sqlalchemy.engine.base.Engine ('ed',)\n",
            "[<User(name='ed', fullname='Ed Jones', nickname='edsnickname')>]\n"
          ],
          "name": "stdout"
        }
      ]
    },
    {
      "cell_type": "code",
      "metadata": {
        "id": "pOdC9eKKMfJ1",
        "colab_type": "code",
        "outputId": "3bc4b571-ec71-4a95-9b70-e8e877a76814",
        "colab": {
          "base_uri": "https://localhost:8080/",
          "height": 340
        }
      },
      "source": [
        "### Building a Relationship ###\n",
        "\n",
        "class Address(Base):\n",
        "    __tablename__ = 'addresses'\n",
        "\n",
        "    id = Column(Integer, primary_key=True)\n",
        "    email_address = Column(String, nullable=False)\n",
        "    user_id = Column(Integer, ForeignKey('users.id'))\n",
        "    user = relationship(\"User\", back_populates=\"addresses\")\n",
        "    \n",
        "    def __repr__(self):\n",
        "        return \"<Address(email_address='%s')>\" % self.email_address\n",
        "    \n",
        "User.addresses = relationship(\"Address\", order_by=Address.id, back_populates=\"user\")\n",
        "    \n",
        "Base.metadata.create_all(engine)\n",
        "print('tables:', engine.table_names())"
      ],
      "execution_count": 9,
      "outputs": [
        {
          "output_type": "stream",
          "text": [
            "2019-05-12 07:45:03,314 INFO sqlalchemy.engine.base.Engine PRAGMA table_info(\"users\")\n",
            "2019-05-12 07:45:03,317 INFO sqlalchemy.engine.base.Engine ()\n",
            "2019-05-12 07:45:03,319 INFO sqlalchemy.engine.base.Engine PRAGMA table_info(\"addresses\")\n",
            "2019-05-12 07:45:03,320 INFO sqlalchemy.engine.base.Engine ()\n",
            "2019-05-12 07:45:03,323 INFO sqlalchemy.engine.base.Engine \n",
            "CREATE TABLE addresses (\n",
            "\tid INTEGER NOT NULL, \n",
            "\temail_address VARCHAR NOT NULL, \n",
            "\tuser_id INTEGER, \n",
            "\tPRIMARY KEY (id), \n",
            "\tFOREIGN KEY(user_id) REFERENCES users (id)\n",
            ")\n",
            "\n",
            "\n",
            "2019-05-12 07:45:03,324 INFO sqlalchemy.engine.base.Engine ()\n",
            "2019-05-12 07:45:03,327 INFO sqlalchemy.engine.base.Engine COMMIT\n",
            "2019-05-12 07:45:03,329 INFO sqlalchemy.engine.base.Engine SELECT name FROM sqlite_master WHERE type='table' ORDER BY name\n",
            "2019-05-12 07:45:03,330 INFO sqlalchemy.engine.base.Engine ()\n",
            "tables: ['addresses', 'users']\n"
          ],
          "name": "stdout"
        }
      ]
    },
    {
      "cell_type": "code",
      "metadata": {
        "id": "kQNqS-dpPa7R",
        "colab_type": "code",
        "outputId": "0b7484fa-36e7-427a-d486-070b1de2e214",
        "colab": {
          "base_uri": "https://localhost:8080/",
          "height": 343
        }
      },
      "source": [
        "### Join ###\n",
        "\n",
        "jack = User(name='jack', fullname='Jack Bean', nickname='gjffdd')\n",
        "print('jack addresses:', jack.addresses)\n",
        "\n",
        "jack.addresses = [Address(email_address='jack@google.com'),\n",
        "                  Address(email_address='j25@yahoo.com')]\n",
        "session.add(jack)\n",
        "session.commit()\n",
        "user = session.query(User).filter_by(name='jack').one()\n",
        "print(user.addresses)"
      ],
      "execution_count": 10,
      "outputs": [
        {
          "output_type": "stream",
          "text": [
            "jack addresses: []\n",
            "2019-05-12 07:45:03,357 INFO sqlalchemy.engine.base.Engine INSERT INTO users (name, fullname, nickname) VALUES (?, ?, ?)\n",
            "2019-05-12 07:45:03,359 INFO sqlalchemy.engine.base.Engine ('jack', 'Jack Bean', 'gjffdd')\n",
            "2019-05-12 07:45:03,363 INFO sqlalchemy.engine.base.Engine INSERT INTO addresses (email_address, user_id) VALUES (?, ?)\n",
            "2019-05-12 07:45:03,365 INFO sqlalchemy.engine.base.Engine ('jack@google.com', 2)\n",
            "2019-05-12 07:45:03,367 INFO sqlalchemy.engine.base.Engine INSERT INTO addresses (email_address, user_id) VALUES (?, ?)\n",
            "2019-05-12 07:45:03,369 INFO sqlalchemy.engine.base.Engine ('j25@yahoo.com', 2)\n",
            "2019-05-12 07:45:03,371 INFO sqlalchemy.engine.base.Engine COMMIT\n",
            "2019-05-12 07:45:03,375 INFO sqlalchemy.engine.base.Engine BEGIN (implicit)\n",
            "2019-05-12 07:45:03,377 INFO sqlalchemy.engine.base.Engine SELECT users.id AS users_id, users.name AS users_name, users.fullname AS users_fullname, users.nickname AS users_nickname \n",
            "FROM users \n",
            "WHERE users.name = ?\n",
            "2019-05-12 07:45:03,378 INFO sqlalchemy.engine.base.Engine ('jack',)\n",
            "2019-05-12 07:45:03,386 INFO sqlalchemy.engine.base.Engine SELECT addresses.id AS addresses_id, addresses.email_address AS addresses_email_address, addresses.user_id AS addresses_user_id \n",
            "FROM addresses \n",
            "WHERE ? = addresses.user_id ORDER BY addresses.id\n",
            "2019-05-12 07:45:03,388 INFO sqlalchemy.engine.base.Engine (2,)\n",
            "[<Address(email_address='jack@google.com')>, <Address(email_address='j25@yahoo.com')>]\n"
          ],
          "name": "stdout"
        }
      ]
    }
  ]
}