{
  "nbformat": 4,
  "nbformat_minor": 0,
  "metadata": {
    "colab": {
      "name": "sqlalchemy_tutorial.ipynb",
      "version": "0.3.2",
      "provenance": [],
      "include_colab_link": true
    },
    "kernelspec": {
      "name": "python3",
      "display_name": "Python 3"
    }
  },
  "cells": [
    {
      "cell_type": "markdown",
      "metadata": {
        "id": "view-in-github",
        "colab_type": "text"
      },
      "source": [
        "<a href=\"https://colab.research.google.com/github/vanryuji/sqlalchemy/blob/master/tutorial/sqlalchemy_tutorial.ipynb\" target=\"_parent\"><img src=\"https://colab.research.google.com/assets/colab-badge.svg\" alt=\"Open In Colab\"/></a>"
      ]
    },
    {
      "cell_type": "code",
      "metadata": {
        "id": "kzQvTDOKY4g4",
        "colab_type": "code",
        "outputId": "1e63dd9e-c022-4340-a547-99bf44ee0e9d",
        "colab": {
          "base_uri": "https://localhost:8080/",
          "height": 34
        }
      },
      "source": [
        "!pip install sqlalchemy"
      ],
      "execution_count": 1,
      "outputs": [
        {
          "output_type": "stream",
          "text": [
            "Requirement already satisfied: sqlalchemy in /usr/local/lib/python3.6/dist-packages (1.3.3)\n"
          ],
          "name": "stdout"
        }
      ]
    },
    {
      "cell_type": "code",
      "metadata": {
        "id": "QwQQx_KdZHRG",
        "colab_type": "code",
        "colab": {}
      },
      "source": [
        "from sqlalchemy import create_engine\n",
        "from sqlalchemy.ext.declarative import declarative_base\n",
        "from sqlalchemy import Column, Integer, String\n",
        "from sqlalchemy.orm import sessionmaker, scoped_session\n",
        "from sqlalchemy import ForeignKey\n",
        "from sqlalchemy.orm import relationship"
      ],
      "execution_count": 0,
      "outputs": []
    },
    {
      "cell_type": "code",
      "metadata": {
        "id": "YL2UPLkG6mxY",
        "colab_type": "code",
        "colab": {}
      },
      "source": [
        "### Connecting ###\n",
        "\n",
        "engine = create_engine('sqlite:///:memory:', echo=True)"
      ],
      "execution_count": 0,
      "outputs": []
    },
    {
      "cell_type": "code",
      "metadata": {
        "id": "ZarsMtk78f_I",
        "colab_type": "code",
        "outputId": "0154ec17-3e6d-4361-aadc-ccf4d092891b",
        "colab": {
          "base_uri": "https://localhost:8080/",
          "height": 34
        }
      },
      "source": [
        "### Creating session ###\n",
        "\n",
        "session = scoped_session(sessionmaker(bind=engine))\n",
        "print('autocommit:', session.autocommit)"
      ],
      "execution_count": 4,
      "outputs": [
        {
          "output_type": "stream",
          "text": [
            "autocommit: False\n"
          ],
          "name": "stdout"
        }
      ]
    },
    {
      "cell_type": "code",
      "metadata": {
        "id": "zd0z0hVm6LkS",
        "colab_type": "code",
        "colab": {}
      },
      "source": [
        "### Declare mapping ###\n",
        "\n",
        "Base = declarative_base()\n",
        "\n",
        "class User(Base):\n",
        "    __tablename__ = 'users'\n",
        "    \n",
        "    id = Column(Integer, primary_key=True)\n",
        "    name = Column(String(20))\n",
        "    fullname = Column(String(20))\n",
        "    nickname = Column(String(20))\n",
        "\n",
        "    def __repr__(self):\n",
        "        return \"<User(name='%s', fullname='%s', nickname='%s')>\" % (self.name, self.fullname, self.nickname)\n"
      ],
      "execution_count": 0,
      "outputs": []
    },
    {
      "cell_type": "code",
      "metadata": {
        "id": "sXgBOJLd8RxY",
        "colab_type": "code",
        "outputId": "00514c27-8f3d-4f44-de8d-a4c9255f2ea4",
        "colab": {
          "base_uri": "https://localhost:8080/",
          "height": 459
        }
      },
      "source": [
        "### Create schema ###\n",
        "\n",
        "print('before creating, tables:', engine.table_names())\n",
        "Base.metadata.drop_all(bind=engine)\n",
        "Base.metadata.create_all(engine)\n",
        "print('after creating, tables:', engine.table_names())"
      ],
      "execution_count": 6,
      "outputs": [
        {
          "output_type": "stream",
          "text": [
            "2019-05-28 02:57:40,669 INFO sqlalchemy.engine.base.Engine SELECT CAST('test plain returns' AS VARCHAR(60)) AS anon_1\n",
            "2019-05-28 02:57:40,671 INFO sqlalchemy.engine.base.Engine ()\n",
            "2019-05-28 02:57:40,675 INFO sqlalchemy.engine.base.Engine SELECT CAST('test unicode returns' AS VARCHAR(60)) AS anon_1\n",
            "2019-05-28 02:57:40,676 INFO sqlalchemy.engine.base.Engine ()\n",
            "2019-05-28 02:57:40,679 INFO sqlalchemy.engine.base.Engine SELECT name FROM sqlite_master WHERE type='table' ORDER BY name\n",
            "2019-05-28 02:57:40,681 INFO sqlalchemy.engine.base.Engine ()\n",
            "before creating, tables: []\n",
            "2019-05-28 02:57:40,685 INFO sqlalchemy.engine.base.Engine PRAGMA table_info(\"users\")\n",
            "2019-05-28 02:57:40,687 INFO sqlalchemy.engine.base.Engine ()\n",
            "2019-05-28 02:57:40,690 INFO sqlalchemy.engine.base.Engine PRAGMA table_info(\"users\")\n",
            "2019-05-28 02:57:40,692 INFO sqlalchemy.engine.base.Engine ()\n",
            "2019-05-28 02:57:40,694 INFO sqlalchemy.engine.base.Engine \n",
            "CREATE TABLE users (\n",
            "\tid INTEGER NOT NULL, \n",
            "\tname VARCHAR(20), \n",
            "\tfullname VARCHAR(20), \n",
            "\tnickname VARCHAR(20), \n",
            "\tPRIMARY KEY (id)\n",
            ")\n",
            "\n",
            "\n",
            "2019-05-28 02:57:40,696 INFO sqlalchemy.engine.base.Engine ()\n",
            "2019-05-28 02:57:40,698 INFO sqlalchemy.engine.base.Engine COMMIT\n",
            "2019-05-28 02:57:40,700 INFO sqlalchemy.engine.base.Engine SELECT name FROM sqlite_master WHERE type='table' ORDER BY name\n",
            "2019-05-28 02:57:40,702 INFO sqlalchemy.engine.base.Engine ()\n",
            "after creating, tables: ['users']\n"
          ],
          "name": "stdout"
        }
      ]
    },
    {
      "cell_type": "code",
      "metadata": {
        "id": "C3VTjVl76T9p",
        "colab_type": "code",
        "outputId": "e0bc0b3b-96a4-48ad-c790-4f0e68f746b4",
        "colab": {
          "base_uri": "https://localhost:8080/",
          "height": 207
        }
      },
      "source": [
        "### Insert ###\n",
        "\n",
        "ed_user = User(name='ed', fullname='Ed Jones', nickname='edsnickname')\n",
        "session.add(ed_user)\n",
        "session.commit()\n",
        "our_user = session.query(User).filter_by(name='ed').all()\n",
        "print(our_user)"
      ],
      "execution_count": 7,
      "outputs": [
        {
          "output_type": "stream",
          "text": [
            "2019-05-28 02:57:40,726 INFO sqlalchemy.engine.base.Engine BEGIN (implicit)\n",
            "2019-05-28 02:57:40,735 INFO sqlalchemy.engine.base.Engine INSERT INTO users (name, fullname, nickname) VALUES (?, ?, ?)\n",
            "2019-05-28 02:57:40,740 INFO sqlalchemy.engine.base.Engine ('ed', 'Ed Jones', 'edsnickname')\n",
            "2019-05-28 02:57:40,744 INFO sqlalchemy.engine.base.Engine COMMIT\n",
            "2019-05-28 02:57:40,748 INFO sqlalchemy.engine.base.Engine BEGIN (implicit)\n",
            "2019-05-28 02:57:40,751 INFO sqlalchemy.engine.base.Engine SELECT users.id AS users_id, users.name AS users_name, users.fullname AS users_fullname, users.nickname AS users_nickname \n",
            "FROM users \n",
            "WHERE users.name = ?\n",
            "2019-05-28 02:57:40,753 INFO sqlalchemy.engine.base.Engine ('ed',)\n",
            "[<User(name='ed', fullname='Ed Jones', nickname='edsnickname')>]\n"
          ],
          "name": "stdout"
        }
      ]
    },
    {
      "cell_type": "code",
      "metadata": {
        "id": "-bz42fqGBTbv",
        "colab_type": "code",
        "outputId": "af4abf8d-ba13-4d95-b99f-31e7957b2439",
        "colab": {
          "base_uri": "https://localhost:8080/",
          "height": 156
        }
      },
      "source": [
        "### Rollback ###\n",
        "\n",
        "ed_user = User(name='ed', fullname='Ed Mickey', nickname='edsnickname')\n",
        "session.add(ed_user)\n",
        "session.rollback()\n",
        "users = session.query(User).filter_by(name='ed').all()\n",
        "print(users)"
      ],
      "execution_count": 8,
      "outputs": [
        {
          "output_type": "stream",
          "text": [
            "2019-05-28 02:57:40,767 INFO sqlalchemy.engine.base.Engine ROLLBACK\n",
            "2019-05-28 02:57:40,770 INFO sqlalchemy.engine.base.Engine BEGIN (implicit)\n",
            "2019-05-28 02:57:40,772 INFO sqlalchemy.engine.base.Engine SELECT users.id AS users_id, users.name AS users_name, users.fullname AS users_fullname, users.nickname AS users_nickname \n",
            "FROM users \n",
            "WHERE users.name = ?\n",
            "2019-05-28 02:57:40,774 INFO sqlalchemy.engine.base.Engine ('ed',)\n",
            "[<User(name='ed', fullname='Ed Jones', nickname='edsnickname')>]\n"
          ],
          "name": "stdout"
        }
      ]
    },
    {
      "cell_type": "code",
      "metadata": {
        "id": "pOdC9eKKMfJ1",
        "colab_type": "code",
        "outputId": "70dc1442-fe0b-416b-f755-692120c7cbec",
        "colab": {
          "base_uri": "https://localhost:8080/",
          "height": 340
        }
      },
      "source": [
        "### Building a Relationship ###\n",
        "\n",
        "class Address(Base):\n",
        "    __tablename__ = 'addresses'\n",
        "\n",
        "    id = Column(Integer, primary_key=True)\n",
        "    email_address = Column(String, nullable=False)\n",
        "    user_id = Column(Integer, ForeignKey('users.id'))\n",
        "    user = relationship(\"User\", back_populates=\"addresses\")\n",
        "    \n",
        "    def __repr__(self):\n",
        "        return \"<Address(email_address='%s')>\" % self.email_address\n",
        "    \n",
        "User.addresses = relationship(\"Address\", order_by=Address.id, back_populates=\"user\")\n",
        "    \n",
        "Base.metadata.create_all(engine)\n",
        "print('tables:', engine.table_names())"
      ],
      "execution_count": 9,
      "outputs": [
        {
          "output_type": "stream",
          "text": [
            "2019-05-28 02:57:40,805 INFO sqlalchemy.engine.base.Engine PRAGMA table_info(\"users\")\n",
            "2019-05-28 02:57:40,808 INFO sqlalchemy.engine.base.Engine ()\n",
            "2019-05-28 02:57:40,809 INFO sqlalchemy.engine.base.Engine PRAGMA table_info(\"addresses\")\n",
            "2019-05-28 02:57:40,811 INFO sqlalchemy.engine.base.Engine ()\n",
            "2019-05-28 02:57:40,813 INFO sqlalchemy.engine.base.Engine \n",
            "CREATE TABLE addresses (\n",
            "\tid INTEGER NOT NULL, \n",
            "\temail_address VARCHAR NOT NULL, \n",
            "\tuser_id INTEGER, \n",
            "\tPRIMARY KEY (id), \n",
            "\tFOREIGN KEY(user_id) REFERENCES users (id)\n",
            ")\n",
            "\n",
            "\n",
            "2019-05-28 02:57:40,814 INFO sqlalchemy.engine.base.Engine ()\n",
            "2019-05-28 02:57:40,815 INFO sqlalchemy.engine.base.Engine COMMIT\n",
            "2019-05-28 02:57:40,817 INFO sqlalchemy.engine.base.Engine SELECT name FROM sqlite_master WHERE type='table' ORDER BY name\n",
            "2019-05-28 02:57:40,818 INFO sqlalchemy.engine.base.Engine ()\n",
            "tables: ['addresses', 'users']\n"
          ],
          "name": "stdout"
        }
      ]
    },
    {
      "cell_type": "code",
      "metadata": {
        "id": "kQNqS-dpPa7R",
        "colab_type": "code",
        "outputId": "7fab1252-14ca-4347-d400-9ec291ac527d",
        "colab": {
          "base_uri": "https://localhost:8080/",
          "height": 343
        }
      },
      "source": [
        "### Join ###\n",
        "\n",
        "jack = User(name='jack', fullname='Jack Bean', nickname='gjffdd')\n",
        "print('jack addresses:', jack.addresses)\n",
        "\n",
        "jack.addresses = [Address(email_address='jack@google.com'),\n",
        "                  Address(email_address='j25@yahoo.com')]\n",
        "session.add(jack)\n",
        "session.commit()\n",
        "user = session.query(User).filter_by(name='jack').one()\n",
        "print(user.addresses)"
      ],
      "execution_count": 10,
      "outputs": [
        {
          "output_type": "stream",
          "text": [
            "jack addresses: []\n",
            "2019-05-28 02:57:40,837 INFO sqlalchemy.engine.base.Engine INSERT INTO users (name, fullname, nickname) VALUES (?, ?, ?)\n",
            "2019-05-28 02:57:40,839 INFO sqlalchemy.engine.base.Engine ('jack', 'Jack Bean', 'gjffdd')\n",
            "2019-05-28 02:57:40,842 INFO sqlalchemy.engine.base.Engine INSERT INTO addresses (email_address, user_id) VALUES (?, ?)\n",
            "2019-05-28 02:57:40,843 INFO sqlalchemy.engine.base.Engine ('jack@google.com', 2)\n",
            "2019-05-28 02:57:40,845 INFO sqlalchemy.engine.base.Engine INSERT INTO addresses (email_address, user_id) VALUES (?, ?)\n",
            "2019-05-28 02:57:40,847 INFO sqlalchemy.engine.base.Engine ('j25@yahoo.com', 2)\n",
            "2019-05-28 02:57:40,848 INFO sqlalchemy.engine.base.Engine COMMIT\n",
            "2019-05-28 02:57:40,850 INFO sqlalchemy.engine.base.Engine BEGIN (implicit)\n",
            "2019-05-28 02:57:40,852 INFO sqlalchemy.engine.base.Engine SELECT users.id AS users_id, users.name AS users_name, users.fullname AS users_fullname, users.nickname AS users_nickname \n",
            "FROM users \n",
            "WHERE users.name = ?\n",
            "2019-05-28 02:57:40,853 INFO sqlalchemy.engine.base.Engine ('jack',)\n",
            "2019-05-28 02:57:40,857 INFO sqlalchemy.engine.base.Engine SELECT addresses.id AS addresses_id, addresses.email_address AS addresses_email_address, addresses.user_id AS addresses_user_id \n",
            "FROM addresses \n",
            "WHERE ? = addresses.user_id ORDER BY addresses.id\n",
            "2019-05-28 02:57:40,858 INFO sqlalchemy.engine.base.Engine (2,)\n",
            "[<Address(email_address='jack@google.com')>, <Address(email_address='j25@yahoo.com')>]\n"
          ],
          "name": "stdout"
        }
      ]
    }
  ]
}